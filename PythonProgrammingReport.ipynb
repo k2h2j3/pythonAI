{
 "cells": [
  {
   "cell_type": "markdown",
   "id": "992992e0",
   "metadata": {},
   "source": [
    "### 소속 : 한국교통대학교 컴퓨터공학과\n",
    "### 학번 : 1726009\n",
    "### 이름 : 김승겸"
   ]
  },
  {
   "cell_type": "markdown",
   "id": "a9df927b",
   "metadata": {},
   "source": [
    "## 원과 사각형 그리기\n",
    "### 다음과 같이 원과 사각형을 그려보세요.\n",
    "### 원의 반지름 50, 사각형 한 변의 길이 100, 사각형 테두리 굵기: 4, 사각형 테두리 색상 : red"
   ]
  },
  {
   "cell_type": "code",
   "execution_count": null,
   "id": "19515233",
   "metadata": {},
   "outputs": [],
   "source": [
    "import turtle\n",
    "t = turtle.Turtle()\n",
    "t.shape('turtle')\n",
    "\n",
    "t.circle(50)\n",
    "\n",
    "t.color(\"red\")\n",
    "t.pensize(4)\n",
    "t.forward(100)\n",
    "t.left(90)\n",
    "t.forward(100)\n",
    "t.left(90)\n",
    "t.forward(100)\n",
    "t.left(90)\n",
    "t.forward(100)\n",
    "t.left(90)\n",
    "turtle.mainloop()"
   ]
  },
  {
   "cell_type": "markdown",
   "id": "d2eeb2ea",
   "metadata": {},
   "source": [
    "## 리스트에 저장된 색상으로 원 그리기\n",
    "### 리스트에 저장된 색상으로 문자열을 저장하였다가 하나씩 꺼내서 원의 색상으로 설정하여 원 그리기\n",
    "\n",
    "### 실습1. 색상이름 : \"magenta\", \"cyan\", \"yellow\"\n",
    "### 실습2. 색상이름 : \"red\", \"green\", \"blue\""
   ]
  },
  {
   "cell_type": "code",
   "execution_count": null,
   "id": "380ee531",
   "metadata": {},
   "outputs": [],
   "source": [
    "import turtle\n",
    "t = turtle.Turtle()\n",
    "\n",
    "colors = [\"magenta\", \"cyan\", \"yellow\"]\n",
    "\n",
    "t.penup()\n",
    "t.goto(-50, -50)\n",
    "t.pendown()\n",
    "t.fillcolor(colors[0])\n",
    "t.begin_fill()\n",
    "t.circle(100)\n",
    "t.end_fill()\n",
    "\n",
    "t.forward(50)\n",
    "t.fillcolor(colors[1])\n",
    "t.begin_fill()\n",
    "t.circle(100)\n",
    "t.end_fill()\n",
    "\n",
    "t.forward(50)\n",
    "t.fillcolor(colors[2])\n",
    "t.begin_fill()\n",
    "t.circle(100)\n",
    "t.end_fill()\n",
    "\n",
    "turtle.mainloop()"
   ]
  },
  {
   "cell_type": "code",
   "execution_count": null,
   "id": "85e40e26",
   "metadata": {},
   "outputs": [],
   "source": [
    "import turtle\n",
    "t = turtle.Turtle()\n",
    "\n",
    "colors = [\"red\", \"green\", \"blue\"]\n",
    "\n",
    "t.penup()\n",
    "t.goto(-50, -50)\n",
    "t.pendown()\n",
    "t.fillcolor(colors[0])\n",
    "t.begin_fill()\n",
    "t.circle(100)\n",
    "t.end_fill()\n",
    "\n",
    "t.forward(50)\n",
    "t.fillcolor(colors[1])\n",
    "t.begin_fill()\n",
    "t.circle(100)\n",
    "t.end_fill()\n",
    "\n",
    "t.forward(50)\n",
    "t.fillcolor(colors[2])\n",
    "t.begin_fill()\n",
    "t.circle(100)\n",
    "t.end_fill()\n",
    "\n",
    "turtle.mainloop()"
   ]
  },
  {
   "cell_type": "markdown",
   "id": "03d3a597",
   "metadata": {},
   "source": [
    "## 몫과 나머지\n",
    "### 두 정수를 입력 받아 몫과 나머지를 계산하여 출력하는 프로그램을 작성하시오."
   ]
  },
  {
   "cell_type": "code",
   "execution_count": 1,
   "id": "b98c4b2b",
   "metadata": {},
   "outputs": [
    {
     "name": "stdout",
     "output_type": "stream",
     "text": [
      "분자를 입력하세요 : 7\n",
      "분모를 입력하세요 : 4\n",
      "나눗셈의 몫 = 1\n",
      "나눗셈의 나머지 = 3\n"
     ]
    }
   ],
   "source": [
    "p = int(input(\"분자를 입력하세요 : \"))\n",
    "q = int(input(\"분모를 입력하세요 : \"))\n",
    "print(\"나눗셈의 몫 =\", p // q)\n",
    "print(\"나눗셈의 나머지 =\", p % q)"
   ]
  },
  {
   "cell_type": "markdown",
   "id": "de3ca4d5",
   "metadata": {},
   "source": [
    "## 초단위의 시간 변환\n",
    "### 초단위의 시간을 입력 받아서 몇 시간, 몇 분, 몇 초인지를 계산하여 출력하는 프로그램을 작성하시오."
   ]
  },
  {
   "cell_type": "code",
   "execution_count": 2,
   "id": "165e536a",
   "metadata": {},
   "outputs": [
    {
     "name": "stdout",
     "output_type": "stream",
     "text": [
      "초단위의 시간을 입력하세요 : 12345\n",
      "hour= 3 minute= 25 second= 45\n"
     ]
    }
   ],
   "source": [
    "s = int(input(\"초단위의 시간을 입력하세요 : \"))\n",
    "h = s // 3600\n",
    "s = s % 3600\n",
    "m = s // 60\n",
    "s = s % 60\n",
    "print(\"hour=\", h, \"minute=\", m, \"second=\", s)"
   ]
  },
  {
   "cell_type": "markdown",
   "id": "7ac6c431",
   "metadata": {},
   "source": [
    "## 온도 변환\n",
    "### 다음 공식을 이용하여 화씨온도를 섭씨온도로 변환한 후 화면에 출력하는 프로그램을 작성하시오.\n",
    "\n",
    "### C = 5 * (F - 32) / 9"
   ]
  },
  {
   "cell_type": "code",
   "execution_count": 3,
   "id": "97e474ad",
   "metadata": {},
   "outputs": [
    {
     "name": "stdout",
     "output_type": "stream",
     "text": [
      "화씨온도를 입력하세요 : 100\n",
      "화씨 100도는 썹씨 37.77777777777778도입니다.\n"
     ]
    }
   ],
   "source": [
    "F = int(input(\"화씨온도를 입력하세요 : \"))\n",
    "C = 5 * (F - 32) / 9\n",
    "print(f\"화씨 {F}도는 썹씨 {C}도입니다.\")"
   ]
  },
  {
   "cell_type": "markdown",
   "id": "28a83d62",
   "metadata": {},
   "source": [
    "## BMI 계산하기\n",
    "### 다음공식을 이용하여 BMI를 계산한 후 화면에 출력하는 프로그램을 작성.\n",
    "### 키와 몸무게는 사용자로부터 입력 받는다.\n",
    "\n",
    "### BMI = 무게 / 키 ** 2"
   ]
  },
  {
   "cell_type": "code",
   "execution_count": 4,
   "id": "f553b46b",
   "metadata": {},
   "outputs": [
    {
     "name": "stdout",
     "output_type": "stream",
     "text": [
      "몸무게를 kg단위로 입력하세요 : 72\n",
      "키를 미터 단위로 입력하세요 : 1.73\n",
      "당신의 BMI는 24.0569347455645입니다.\n"
     ]
    }
   ],
   "source": [
    "weight = float(input(\"몸무게를 kg단위로 입력하세요 : \"))\n",
    "height = float(input(\"키를 미터 단위로 입력하세요 : \"))\n",
    "bmi = weight / height ** 2\n",
    "print(f\"당신의 BMI는 {bmi}입니다.\")"
   ]
  },
  {
   "cell_type": "markdown",
   "id": "214e5a65",
   "metadata": {},
   "source": [
    "## 복잡한 수식의 표현\n",
    "### 다음 수식을 python으로 표현하세요. \n",
    "### y = a * x**2 + b * y + c"
   ]
  },
  {
   "cell_type": "code",
   "execution_count": 7,
   "id": "afea2a79",
   "metadata": {},
   "outputs": [
    {
     "name": "stdout",
     "output_type": "stream",
     "text": [
      "8\n"
     ]
    }
   ],
   "source": [
    "a = 1\n",
    "x = 2\n",
    "b = 3\n",
    "c = 4\n",
    "y = 0\n",
    "\n",
    "y = a * x**2 + b * y + c\n",
    "print(y)"
   ]
  },
  {
   "cell_type": "markdown",
   "id": "d57780cd",
   "metadata": {},
   "source": [
    "## 복잡한  수식의 표현 2\n",
    "\n",
    "### x1 = (-b + sqrt(b**2 - 4 * a * c)) / (2 * a)"
   ]
  },
  {
   "cell_type": "code",
   "execution_count": 18,
   "id": "df12302b",
   "metadata": {},
   "outputs": [
    {
     "name": "stdout",
     "output_type": "stream",
     "text": [
      "-0.015114219820389536\n"
     ]
    }
   ],
   "source": [
    "import math\n",
    "\n",
    "x1 = 0\n",
    "a = 100\n",
    "b = 200\n",
    "c = 3\n",
    "\n",
    "\n",
    "x1 = (-b + math.sqrt(b**2 - 4 * a * c)) / (2 * a)\n",
    "print(x1)"
   ]
  },
  {
   "cell_type": "markdown",
   "id": "390710bd",
   "metadata": {},
   "source": [
    "## 두 점 사이의 거리 구하기\n",
    "### 키보드로부터 두 점의 좌표를 각각 입력 받고, 다음과 같이 두 점과 거리를 출력하는 프로그램을 작성하시오."
   ]
  },
  {
   "cell_type": "code",
   "execution_count": null,
   "id": "04863a59",
   "metadata": {},
   "outputs": [],
   "source": [
    "import turtle\n",
    "import math\n",
    "\n",
    "t = turtle.Turtle()\n",
    "x1, y1 = eval(input(\"첫번째 점의 좌표 x1, y1 입력 : \"))\n",
    "x2, y2 = eval(input(\"두번째 점의 좌표 x2, y2 입력 : \"))\n",
    "# 두 점 사이의 거리 계산\n",
    "d = math.sqrt(pow(x1-x2, 2) + pow(y1-y2, 2))\n",
    "\n",
    "# 두 점을 출력\n",
    "t.penup()\n",
    "t.goto(x1, y1)\n",
    "t.pendown()\n",
    "t.dot(5)\n",
    "t.write(\"점1\")\n",
    "t.goto(x2, y2)\n",
    "t.dot(5)\n",
    "t.write(\"점2\")\n",
    "\n",
    "# 직선의 중앙에 거리 출력\n",
    "\n",
    "t.penup()\n",
    "t.goto((x1+x2)/2, (y1+y2)/2)\n",
    "t.write(d)\n",
    "t.hideturtle()\n",
    "turtle.mainloop()"
   ]
  },
  {
   "cell_type": "code",
   "execution_count": null,
   "id": "02546711",
   "metadata": {},
   "outputs": [],
   "source": []
  }
 ],
 "metadata": {
  "kernelspec": {
   "display_name": "Python 3 (ipykernel)",
   "language": "python",
   "name": "python3"
  },
  "language_info": {
   "codemirror_mode": {
    "name": "ipython",
    "version": 3
   },
   "file_extension": ".py",
   "mimetype": "text/x-python",
   "name": "python",
   "nbconvert_exporter": "python",
   "pygments_lexer": "ipython3",
   "version": "3.9.7"
  }
 },
 "nbformat": 4,
 "nbformat_minor": 5
}
